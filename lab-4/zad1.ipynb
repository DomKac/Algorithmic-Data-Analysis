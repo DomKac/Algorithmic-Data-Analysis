{
 "cells": [
  {
   "cell_type": "markdown",
   "metadata": {},
   "source": [
    "### Zadanie 1\n",
    "W `lab4.ipynb` jest przykładowa próba stworzenia klasyfikatora dla problemu klasyfikacji wiadomości do jednej z 20 grup tematycznych (zbiór: `20newsgroups`). Postaraj się uzyskać możliwie wysoką dokładność testową poprawiając **pipeline**, testując różne modele, stosując **GridSearch**, rozważając użycie **n-gramów** (ngram_range), itp. Za zadanie możesz otrzymać $x − 80$ punktów, gdzie $x$ to Twoja średnia dokładność testowa (w procentach) uzyskana z walidacji krzyżowej (k-Fold, OOB)."
   ]
  },
  {
   "cell_type": "code",
   "execution_count": 1,
   "metadata": {},
   "outputs": [
    {
     "data": {
      "text/plain": [
       "['alt.atheism',\n",
       " 'comp.graphics',\n",
       " 'comp.os.ms-windows.misc',\n",
       " 'comp.sys.ibm.pc.hardware',\n",
       " 'comp.sys.mac.hardware',\n",
       " 'comp.windows.x',\n",
       " 'misc.forsale',\n",
       " 'rec.autos',\n",
       " 'rec.motorcycles',\n",
       " 'rec.sport.baseball',\n",
       " 'rec.sport.hockey',\n",
       " 'sci.crypt',\n",
       " 'sci.electronics',\n",
       " 'sci.med',\n",
       " 'sci.space',\n",
       " 'soc.religion.christian',\n",
       " 'talk.politics.guns',\n",
       " 'talk.politics.mideast',\n",
       " 'talk.politics.misc',\n",
       " 'talk.religion.misc']"
      ]
     },
     "execution_count": 1,
     "metadata": {},
     "output_type": "execute_result"
    }
   ],
   "source": [
    "from sklearn.datasets import fetch_20newsgroups\n",
    "train = fetch_20newsgroups(subset='train', shuffle=True)\n",
    "train.target_names #prints all the categories"
   ]
  },
  {
   "cell_type": "code",
   "execution_count": 2,
   "metadata": {},
   "outputs": [
    {
     "name": "stdout",
     "output_type": "stream",
     "text": [
      "Train set size: 11314 \n"
     ]
    }
   ],
   "source": [
    "print('Train set size: %s ' % train.target.size)"
   ]
  },
  {
   "cell_type": "code",
   "execution_count": 3,
   "metadata": {},
   "outputs": [
    {
     "name": "stdout",
     "output_type": "stream",
     "text": [
      "FIRST TEXT CATEGORY: rec.autos \n",
      "\n",
      "\n",
      "FIRST TEXT: \n",
      "\n",
      "From: lerxst@wam.umd.edu (where's my thing)\n",
      "Subject: WHAT car is this!?\n",
      "Nntp-Posting-Host: rac3.wam.umd.edu\n",
      "Organization: University of Maryland, College Park\n",
      "Lines: 15\n",
      "\n",
      " I was wondering if anyone out there could enlighten me on this car I saw\n",
      "the other day. It was a 2-door sports car, looked to be from the late 60s/\n",
      "early 70s. It was called a Bricklin. The doors were really small. In addition,\n",
      "the front bumper was separate from the rest of the body. This is \n",
      "all I know. If anyone can tellme a model name, engine specs, years\n",
      "of production, where this car is made, history, or whatever info you\n",
      "have on this funky looking car, please e-mail.\n",
      "\n",
      "Thanks,\n",
      "- IL\n",
      "   ---- brought to you by your neighborhood Lerxst ----\n",
      "\n",
      "\n",
      "\n",
      "\n",
      "\n"
     ]
    }
   ],
   "source": [
    "print('FIRST TEXT CATEGORY: %s \\n\\n' % train.target_names[train.target[0]])\n",
    "print('FIRST TEXT: \\n')\n",
    "print('\\n'.join(train.data[0].split(\"\\n\")))"
   ]
  },
  {
   "cell_type": "code",
   "execution_count": 17,
   "metadata": {},
   "outputs": [],
   "source": [
    "import numpy as np\n",
    "np.set_printoptions(precision=2)\n",
    "from sklearn.feature_extraction.text import CountVectorizer\n",
    "from sklearn.feature_extraction.text import TfidfTransformer\n",
    "\n",
    "# Using DecisionTreeClassifier\n",
    "from sklearn.tree import DecisionTreeClassifier\n",
    "# dtc = DecisionTreeClassifier().fit(X_train_tfidf, train.target)\n",
    "\n",
    "from sklearn.model_selection import cross_val_score"
   ]
  },
  {
   "cell_type": "code",
   "execution_count": 5,
   "metadata": {},
   "outputs": [],
   "source": [
    "# We can write less code and do all of the above, by building a pipeline.\n",
    "# The names ‘vect’ , ‘tfidf’ and ‘clf’ are arbitrary.\n",
    "# The purpose of the pipeline is to assemble several steps that can be\n",
    "# cross-validated together while setting different parameters.\n",
    "\n",
    "from sklearn.pipeline import Pipeline\n",
    "\n",
    "pipe_clf = Pipeline([\n",
    "    ('vect', CountVectorizer()), \n",
    "    ('tfidf', TfidfTransformer()), \n",
    "    ('dtc', DecisionTreeClassifier())\n",
    "])\n",
    "\n",
    "# Now we can use orginal dataset train.data\n",
    "pipe_clf = pipe_clf.fit(train.data, train.target)"
   ]
  },
  {
   "cell_type": "code",
   "execution_count": 6,
   "metadata": {},
   "outputs": [
    {
     "name": "stdout",
     "output_type": "stream",
     "text": [
      "Accuracy: 0.5531067445565587\n"
     ]
    }
   ],
   "source": [
    "# Performance of DecisionTreeClassifier\n",
    "test = fetch_20newsgroups(subset='test', shuffle=True)\n",
    "predicted = pipe_clf.predict(test.data)\n",
    "accurracy = np.mean(predicted == test.target)\n",
    "\n",
    "# is the result realy bad?\n",
    "print('Accuracy: %s' % accurracy)"
   ]
  },
  {
   "cell_type": "code",
   "execution_count": 7,
   "metadata": {},
   "outputs": [],
   "source": [
    "# Create a list of parameters and their values to be checked.\n",
    "# All the parameters name are of the form 'stepName__paramName'.\n",
    "# E.g. 'vect__ngram_range': [(1, 1), (1, 2)]\n",
    "# that means use unigram and bigrams and choose the one which is optimal.\n",
    "\n",
    "parameters = {\n",
    "    'vect__ngram_range': [(1, 2)],  \n",
    "    'tfidf__use_idf': (True, False),\n",
    "#     'dtc__max_depth': (20,40)\n",
    "}"
   ]
  },
  {
   "cell_type": "code",
   "execution_count": 8,
   "metadata": {},
   "outputs": [
    {
     "name": "stdout",
     "output_type": "stream",
     "text": [
      "Best score: 0.6393840402617277\n",
      "Best param: {'tfidf__use_idf': False, 'vect__ngram_range': (1, 2)}\n"
     ]
    }
   ],
   "source": [
    "#BELOW COMMANDS ARE TIME EXPENSIVE!\n",
    "\n",
    "# n_jobs=-1 means using all cores\n",
    "# Perheps you may need to run \"conda install -c anaconda joblib\" \n",
    "\n",
    "from sklearn.model_selection import GridSearchCV\n",
    "\n",
    "gs_clf = GridSearchCV(pipe_clf, parameters, n_jobs=-1)\n",
    "\n",
    "# Run the grid search on the pipeline\n",
    "gs_clf = gs_clf.fit(train.data, train.target)\n",
    "print(\"Best score: %s\" % gs_clf.best_score_) \n",
    "print(\"Best param: %s\" % gs_clf.best_params_) "
   ]
  },
  {
   "cell_type": "code",
   "execution_count": 11,
   "metadata": {},
   "outputs": [
    {
     "name": "stdout",
     "output_type": "stream",
     "text": [
      "Best score: 0.9307937672619891\n",
      "Best param: {'lsvc__C': 10, 'tfidf__use_idf': True, 'vect__ngram_range': (1, 2)}\n"
     ]
    }
   ],
   "source": [
    "from sklearn.svm import LinearSVC\n",
    "\n",
    "pipeline_lsvc = Pipeline([\n",
    "    ('vect', CountVectorizer()), \n",
    "    ('tfidf', TfidfTransformer()),\n",
    "    ('lsvc', LinearSVC())\n",
    "])\n",
    "\n",
    "pipe_lsvc = pipeline_lsvc.fit(train.data, train.target)\n",
    "\n",
    "parameters_lsvc = {\n",
    "    'vect__ngram_range': [(1, 2)],  \n",
    "    'tfidf__use_idf': (True, False),\n",
    "    'lsvc__C': (0.1, 1, 10)\n",
    "}\n",
    "\n",
    "gs_lsvc = GridSearchCV(pipe_lsvc, parameters_lsvc, n_jobs=-1)\n",
    "\n",
    "# Run the grid search on the pipeline\n",
    "gs_lsvc = gs_lsvc.fit(train.data, train.target)\n",
    "print(\"Best score: %s\" % gs_lsvc.best_score_) \n",
    "print(\"Best param: %s\" % gs_lsvc.best_params_)"
   ]
  },
  {
   "cell_type": "code",
   "execution_count": 19,
   "metadata": {},
   "outputs": [
    {
     "name": "stdout",
     "output_type": "stream",
     "text": [
      "Mean cross-validated accuracy: 0.9113127670693031\n"
     ]
    }
   ],
   "source": [
    "pipeline_lsvc_best = Pipeline([\n",
    "    ('vect', CountVectorizer(ngram_range=(1, 2))), \n",
    "    ('tfidf', TfidfTransformer(use_idf=True)),\n",
    "    ('lsvc', LinearSVC(C=10))\n",
    "])\n",
    "\n",
    "pipe_lsvc_best = pipeline_lsvc.fit(train.data, train.target)\n",
    "\n",
    "# Perform k-Fold cross-validation\n",
    "scores = cross_val_score(pipe_lsvc_best, test.data, test.target, cv=5)\n",
    "# Calculate and print the mean accuracy\n",
    "mean_accuracy = np.mean(scores)\n",
    "print(\"Mean cross-validated accuracy: %s\" % mean_accuracy)"
   ]
  },
  {
   "cell_type": "markdown",
   "metadata": {},
   "source": [
    "#### Dołożony stemming i usunięcie stopwords"
   ]
  },
  {
   "cell_type": "code",
   "execution_count": 14,
   "metadata": {},
   "outputs": [
    {
     "name": "stderr",
     "output_type": "stream",
     "text": [
      "[nltk_data] Downloading package snowball_data to\n",
      "[nltk_data]     /home/dominik/nltk_data...\n",
      "[nltk_data]   Package snowball_data is already up-to-date!\n",
      "[nltk_data] Downloading package stopwords to\n",
      "[nltk_data]     /home/dominik/nltk_data...\n",
      "[nltk_data]   Package stopwords is already up-to-date!\n"
     ]
    }
   ],
   "source": [
    "import nltk\n",
    "nltk.download('snowball_data')\n",
    "nltk.download('stopwords')\n",
    "\n",
    "from nltk.corpus import stopwords"
   ]
  },
  {
   "cell_type": "code",
   "execution_count": 15,
   "metadata": {},
   "outputs": [
    {
     "name": "stdout",
     "output_type": "stream",
     "text": [
      "running --> run\n",
      "generously --> generous\n"
     ]
    }
   ],
   "source": [
    "from nltk.stem.snowball import SnowballStemmer\n",
    "\n",
    "stemmer = SnowballStemmer(\"english\", ignore_stopwords=True)\n",
    "print('running --> %s' % stemmer.stem(\"running\"))\n",
    "print('generously --> %s' % stemmer.stem(\"generously\"))"
   ]
  },
  {
   "cell_type": "code",
   "execution_count": 16,
   "metadata": {},
   "outputs": [
    {
     "name": "stdout",
     "output_type": "stream",
     "text": [
      "Accuracy after stemming: 0.8604620286776421\n",
      "Mean cross-validated accuracy: 0.9292030758134648\n"
     ]
    }
   ],
   "source": [
    "# Use stemming in the vectorization process\n",
    "\n",
    "class StemmedCountVectorizer(CountVectorizer):\n",
    "    def build_analyzer(self):\n",
    "        analyzer = super(StemmedCountVectorizer, self).build_analyzer()\n",
    "        return lambda doc: ([stemmer.stem(w) for w in analyzer(doc)])\n",
    "    \n",
    "\n",
    "pipe_stemmed = Pipeline([\n",
    "    ('vect', StemmedCountVectorizer(stop_words='english', ngram_range=(1, 2))),\n",
    "    ('tfidf', TfidfTransformer(use_idf=True)),\n",
    "    ('lsvc', LinearSVC(C=10))\n",
    "])\n",
    "\n",
    "pipe_stemmed = pipe_stemmed.fit(train.data, train.target)\n",
    "\n",
    "predicted_stemmed = pipe_stemmed.predict(test.data)\n",
    "print('Accuracy after stemming: %s' % np.mean(predicted_stemmed == test.target))\n",
    "\n",
    "# Perform k-Fold cross-validation on TRAIN set\n",
    "scores = cross_val_score(pipe_stemmed, train.data, train.target, cv=5)\n",
    "# Calculate and print the mean accuracy\n",
    "mean_accuracy = np.mean(scores)\n",
    "print(\"Mean cross-validated accuracy (Train): %s\" % mean_accuracy)"
   ]
  },
  {
   "cell_type": "code",
   "execution_count": 20,
   "metadata": {},
   "outputs": [
    {
     "name": "stdout",
     "output_type": "stream",
     "text": [
      "Mean cross-validated accuracy (Test): 0.9167561560878802\n"
     ]
    }
   ],
   "source": [
    "# Perform k-Fold cross-validation on TEST set\n",
    "scores = cross_val_score(pipe_stemmed, test.data, test.target, cv=5)\n",
    "# Calculate and print the mean accuracy\n",
    "mean_accuracy = np.mean(scores)\n",
    "print(\"Mean cross-validated accuracy (Test): %s\" % mean_accuracy)"
   ]
  }
 ],
 "metadata": {
  "kernelspec": {
   "display_name": "aad_venv",
   "language": "python",
   "name": "python3"
  },
  "language_info": {
   "codemirror_mode": {
    "name": "ipython",
    "version": 3
   },
   "file_extension": ".py",
   "mimetype": "text/x-python",
   "name": "python",
   "nbconvert_exporter": "python",
   "pygments_lexer": "ipython3",
   "version": "3.10.12"
  }
 },
 "nbformat": 4,
 "nbformat_minor": 2
}
